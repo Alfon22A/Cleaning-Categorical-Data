{
 "cells": [
  {
   "cell_type": "markdown",
   "id": "6a7aa524-ceff-4407-806b-3431013c5922",
   "metadata": {},
   "source": [
    "![logo_ironhack_blue 7](https://user-images.githubusercontent.com/23629340/40541063-a07a0a8a-601a-11e8-91b5-2f13e4e6b441.png)\n",
    "\n",
    "# Lab | Cleaning categorical data\n",
    "\n",
    "For this lab, we will be using the dataset in the Customer Analysis Business Case. This dataset can be found in `files_for_lab` folder. In this lab we will explore categorical data.\n",
    "\n",
    "### Instructions\n",
    "\n",
    "1. Import the necessary libraries if you are starting a new notebook.\n",
    "Using the same data as the previous lab: we_fn_use_c_marketing_customer_value_analysis.csv\n",
    "\n",
    "2. Find  all of the categorical data.  Save it in a categorical_df variable.\n",
    "\n",
    "3. Check for NaN values.\n",
    "\n",
    "4. Check all unique values of columns.\n",
    "\n",
    "5. Check dtypes. Do they all make sense as categorical data?\n",
    "\n",
    "6. Does any column contain alpha and numeric data?  Decide how to clean it.\n",
    "\n",
    "7. Would you choose to do anything else to clean or wrangle the categorical data?  Comment your decisions.\n",
    "\n",
    "8. Compare policy_type and policy.  What information is contained in these columns.  Can you identify what is important?  \n",
    "\n",
    "9. Check number of unique values in each column, can they be combined in any way to ease encoding?  Comment your thoughts and make those changes.\n"
   ]
  }
 ],
 "metadata": {
  "kernelspec": {
   "display_name": "Python 3 (ipykernel)",
   "language": "python",
   "name": "python3"
  },
  "language_info": {
   "codemirror_mode": {
    "name": "ipython",
    "version": 3
   },
   "file_extension": ".py",
   "mimetype": "text/x-python",
   "name": "python",
   "nbconvert_exporter": "python",
   "pygments_lexer": "ipython3",
   "version": "3.9.12"
  }
 },
 "nbformat": 4,
 "nbformat_minor": 5
}
